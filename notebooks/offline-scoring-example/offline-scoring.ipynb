{
 "cells": [
  {
   "cell_type": "code",
   "execution_count": null,
   "id": "66db5c01-e2c7-4251-b3f6-30f89c946c2b",
   "metadata": {},
   "outputs": [],
   "source": [
    "from data_ingestion import ingest_data\n",
    "from preprocessing import preprocess\n",
    "from model_loading import load_model\n",
    "from scoring import predict\n",
    "from results_upload import upload_results"
   ]
  },
  {
   "cell_type": "code",
   "execution_count": null,
   "id": "4d7accea-e620-4e80-aed9-6dd8821799b5",
   "metadata": {},
   "outputs": [],
   "source": [
    "ingest_data(bucket_name='data', data_file_name='raw_data.csv')"
   ]
  },
  {
   "cell_type": "code",
   "execution_count": null,
   "id": "bf82360c-fb68-4407-adc2-86e8815e1391",
   "metadata": {},
   "outputs": [],
   "source": [
    "preprocess()"
   ]
  },
  {
   "cell_type": "code",
   "execution_count": null,
   "id": "f6280f28-babc-4e99-b3b5-e66b5c0cf839",
   "metadata": {},
   "outputs": [],
   "source": [
    "load_model(bucket_name='models', model_file_name='model.bst')"
   ]
  },
  {
   "cell_type": "code",
   "execution_count": null,
   "id": "23291014-609f-4504-abc1-acfefc21c6ad",
   "metadata": {},
   "outputs": [],
   "source": [
    "predict()"
   ]
  },
  {
   "cell_type": "code",
   "execution_count": null,
   "id": "a7e1f76a-a969-4a10-b3d5-22c9d157ee8e",
   "metadata": {},
   "outputs": [],
   "source": [
    "upload_results(bucket_name='data')"
   ]
  },
  {
   "cell_type": "code",
   "execution_count": null,
   "id": "3204fb49-e067-4f5f-b401-609b170571cd",
   "metadata": {},
   "outputs": [],
   "source": []
  }
 ],
 "metadata": {
  "kernelspec": {
   "display_name": "Python 3 (ipykernel)",
   "language": "python",
   "name": "python3"
  },
  "language_info": {
   "codemirror_mode": {
    "name": "ipython",
    "version": 3
   },
   "file_extension": ".py",
   "mimetype": "text/x-python",
   "name": "python",
   "nbconvert_exporter": "python",
   "pygments_lexer": "ipython3",
   "version": "3.8.13"
  }
 },
 "nbformat": 4,
 "nbformat_minor": 5
}
