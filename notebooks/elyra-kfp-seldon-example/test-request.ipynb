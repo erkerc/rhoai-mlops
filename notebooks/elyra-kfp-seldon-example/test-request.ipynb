{
 "cells": [
  {
   "cell_type": "markdown",
   "id": "26447fb6-5555-4ed7-aa80-05141ac7262c",
   "metadata": {},
   "source": [
    "# ML orchestration with Seldon Core\n",
    "\n",
    "Seldon Core allows to efficiently deploy and run machine learning models as part of containerized applications. It uses a Kubernetes-native approach to declaratively define graphs of inference servers and integrates with common monitoring and service mesh tools.\n",
    "\n",
    "## Prerequisites\n",
    "\n",
    "* Install the Seldon Core operator.\n",
    "\n",
    "## API specification\n",
    "\n",
    "Seldon Core exposes a generic API for inference. The location extractor service implements the following prediction interface:\n",
    "\n",
    "### Method\n",
    "\n",
    "`POST`\n",
    "\n",
    "### Endpoint\n",
    "\n",
    "`/api/v1.0/predictions`\n",
    "\n",
    "### Request JSON body\n",
    "\n",
    "```\n",
    "{\n",
    "  \"data\": {\n",
    "    \"names\": [],\n",
    "    \"ndarray\": [[14., 15., 14., 15., 16.]]\n",
    "  }\n",
    "}\n",
    "```\n",
    "\n",
    "### Response JSON body\n",
    "\n",
    "```\n",
    "{\n",
    "  \"data\": {\n",
    "    \"names\": [],\n",
    "    \"ndarray\": [{binary 0 or 1}]\n",
    "  },\n",
    "  \"meta\": {\n",
    "    \"requestPath\": {\n",
    "      \"model-name\": \"image:tag\"\n",
    "    }\n",
    "  }\n",
    "}\n",
    "```\n",
    "\n",
    "Refer to [External Prediction](https://docs.seldon.io/projects/seldon-core/en/latest/reference/apis/external-prediction.html) API for further details.\n",
    "\n",
    "\n",
    "## Sample request"
   ]
  },
  {
   "cell_type": "code",
   "execution_count": 2,
   "id": "427da5de-4555-4014-85ce-8db1f57f8f12",
   "metadata": {},
   "outputs": [],
   "source": [
    "from pprint import pprint\n",
    "from requests import post"
   ]
  },
  {
   "cell_type": "code",
   "execution_count": 3,
   "id": "4399bfcc-abc0-44f1-82dd-4ded81057f73",
   "metadata": {},
   "outputs": [],
   "source": [
    "endpoint = 'CHANGE_ME'\n",
    "prediction_url = f'{endpoint}/api/v1.0/predictions'"
   ]
  },
  {
   "cell_type": "code",
   "execution_count": 8,
   "id": "42d17db6-abef-4044-b3e7-df89d817475e",
   "metadata": {},
   "outputs": [],
   "source": [
    "sample = [16.1,  15.40,  15.32,  13.47,  17.70]\n",
    "\n",
    "payload = {'data': {'names': [], 'ndarray': [sample]}}"
   ]
  },
  {
   "cell_type": "code",
   "execution_count": null,
   "id": "5c8e45a9-6ae1-414b-a677-c152864bf699",
   "metadata": {},
   "outputs": [],
   "source": [
    "response = post(prediction_url, json=payload)\n",
    "pprint(response.json())"
   ]
  }
 ],
 "metadata": {
  "kernelspec": {
   "display_name": "Python 3 (ipykernel)",
   "language": "python",
   "name": "python3"
  },
  "language_info": {
   "codemirror_mode": {
    "name": "ipython",
    "version": 3
   },
   "file_extension": ".py",
   "mimetype": "text/x-python",
   "name": "python",
   "nbconvert_exporter": "python",
   "pygments_lexer": "ipython3",
   "version": "3.8.8"
  }
 },
 "nbformat": 4,
 "nbformat_minor": 5
}
