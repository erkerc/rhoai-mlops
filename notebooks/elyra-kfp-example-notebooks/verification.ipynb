{
 "cells": [
  {
   "cell_type": "code",
   "execution_count": null,
   "metadata": {},
   "outputs": [],
   "source": [
    "import os\n",
    "\n",
    "from joblib import load\n",
    "import numpy as np\n",
    "\n",
    "\n",
    "filename = 'model.joblib'\n",
    "\n",
    "# load the model from disk\n",
    "loaded_model = load(open(filename, 'rb'))"
   ]
  },
  {
   "cell_type": "markdown",
   "metadata": {},
   "source": [
    "## Prototype class for Seldon model serving\n",
    "For serving the model using Seldon, we need to implement a simple call with an constructor and predict method. Let's try it out here:"
   ]
  },
  {
   "cell_type": "code",
   "execution_count": null,
   "metadata": {},
   "outputs": [],
   "source": [
    "class AnomalyDetection(object):\n",
    "    def __init__(self):\n",
    "        print(\"Initializing...\")\n",
    "        self.model_file = os.environ.get('MODEL_FILE', 'model.joblib')\n",
    "\n",
    "        print(\"Load modelfile: %s\" % (self.model_file))\n",
    "        self.clf = load(open(self.model_file, 'rb'))\n",
    "\n",
    "    def predict(self, X, feature_names):\n",
    "        print(\"Predict features: \", X)\n",
    "\n",
    "        prediction = self.clf.predict(X)\n",
    "        print(\"Prediction: \", prediction)\n",
    "\n",
    "        return prediction"
   ]
  },
  {
   "cell_type": "code",
   "execution_count": null,
   "metadata": {},
   "outputs": [],
   "source": [
    "p = AnomalyDetection()\n",
    "\n",
    "X = np.asarray([[16.1,  15.40,  15.32,  13.47,  17.70]], dtype=np.float32)\n",
    "print(\"Features types: \", type(X),  type(X[0][0]))\n",
    "print(\"Predict features: \", X)\n",
    "\n",
    "prediction = p.clf.predict(X)\n",
    "print(\"Prediction: \", prediction)"
   ]
  }
 ],
 "metadata": {
  "kernelspec": {
   "display_name": "Python 3",
   "language": "python",
   "name": "python3"
  },
  "language_info": {
   "codemirror_mode": {
    "name": "ipython",
    "version": 3
   },
   "file_extension": ".py",
   "mimetype": "text/x-python",
   "name": "python",
   "nbconvert_exporter": "python",
   "pygments_lexer": "ipython3",
   "version": "3.8.6"
  }
 },
 "nbformat": 4,
 "nbformat_minor": 4
}
