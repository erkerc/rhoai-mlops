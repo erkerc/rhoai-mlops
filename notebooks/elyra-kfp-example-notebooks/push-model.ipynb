{
 "cells": [
  {
   "cell_type": "markdown",
   "metadata": {},
   "source": [
    "# Publish trained model"
   ]
  },
  {
   "cell_type": "code",
   "execution_count": null,
   "metadata": {},
   "outputs": [],
   "source": [
    "from datetime import datetime\n",
    "import json\n",
    "import os\n",
    "\n",
    "import boto3"
   ]
  },
  {
   "cell_type": "markdown",
   "metadata": {},
   "source": [
    "Read and initialize parameters"
   ]
  },
  {
   "cell_type": "code",
   "execution_count": null,
   "metadata": {},
   "outputs": [],
   "source": [
    "s3_endpoint_url = os.environ.get('S3_ENDPOINT_URL')\n",
    "s3_access_key = os.environ.get('S3_ACCESS_KEY')\n",
    "s3_secret_key = os.environ.get('S3_SECRET_KEY')\n",
    "s3_bucket_name = os.environ.get('S3_BUCKET_NAME')\n",
    "\n",
    "timestamp = datetime.now().strftime('%y%m%d%H%M')\n",
    "model_name = f'model-{timestamp}.joblib'\n",
    "s3_model_location = f's3://{s3_bucket_name}/{model_name}'"
   ]
  },
  {
   "cell_type": "markdown",
   "metadata": {},
   "source": [
    "Log model version for experiment tracking"
   ]
  },
  {
   "cell_type": "code",
   "execution_count": null,
   "metadata": {},
   "outputs": [],
   "source": [
    "metrics = {\n",
    "    'metrics': [\n",
    "        {\n",
    "            'name': 'model-version',\n",
    "            'numberValue': timestamp,\n",
    "            'format': 'RAW'\n",
    "        }\n",
    "    ]\n",
    "}\n",
    "\n",
    "with open('mlpipeline-metrics.json', 'w') as f:\n",
    "    json.dump(metrics, f)"
   ]
  },
  {
   "cell_type": "markdown",
   "metadata": {},
   "source": [
    "Upload model to S3 bucket"
   ]
  },
  {
   "cell_type": "code",
   "execution_count": null,
   "metadata": {},
   "outputs": [],
   "source": [
    "print(f'Uploading model to bucket {s3_bucket_name}'\n",
    "      f'to S3 storage at {s3_endpoint_url}')\n",
    "s3_client = boto3.client(\n",
    "    's3', endpoint_url=s3_endpoint_url,\n",
    "    aws_access_key_id=s3_access_key, aws_secret_access_key=s3_secret_key\n",
    ")\n",
    "with open('model.joblib', 'rb') as model_file:\n",
    "    s3_client.upload_fileobj(model_file, s3_bucket_name, model_name)"
   ]
  }
 ],
 "metadata": {
  "interpreter": {
   "hash": "e7370f93d1d0cde622a1f8e1c04877d8463912d04d973331ad4851f04de6915a"
  },
  "kernelspec": {
   "display_name": "Python 3 (ipykernel)",
   "language": "python",
   "name": "python3"
  },
  "language_info": {
   "codemirror_mode": {
    "name": "ipython",
    "version": 3
   },
   "file_extension": ".py",
   "mimetype": "text/x-python",
   "name": "python",
   "nbconvert_exporter": "python",
   "pygments_lexer": "ipython3",
   "version": "3.8.13"
  }
 },
 "nbformat": 4,
 "nbformat_minor": 4
}
