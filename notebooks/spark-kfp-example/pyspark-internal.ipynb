{
 "cells": [
  {
   "cell_type": "code",
   "execution_count": null,
   "id": "a84b1027-801e-4e01-8d86-6de3c64f8990",
   "metadata": {},
   "outputs": [],
   "source": [
    "from datetime import datetime\n",
    "from os import getenv\n",
    "\n",
    "from pyspark.sql import SparkSession\n",
    "\n",
    "\n",
    "s3_endpoint_url = getenv('AWS_S3_ENDPOINT')\n",
    "s3_access_key_id = getenv('AWS_ACCESS_KEY_ID')\n",
    "s3_secret_access_key = getenv('AWS_SECRET_ACCESS_KEY')\n",
    "s3_bucket = 'spark-demo'"
   ]
  },
  {
   "cell_type": "code",
   "execution_count": null,
   "id": "27aa4a4e-8d3a-4050-8bfc-f58c4f2a8981",
   "metadata": {
    "tags": []
   },
   "outputs": [],
   "source": [
    "spark = SparkSession\\\n",
    "    .builder\\\n",
    "    .appName(\"PythonWordCount\")\\\n",
    "    .getOrCreate()\n",
    "\n",
    "hadoopConf = spark.sparkContext._jsc.hadoopConfiguration()\n",
    "hadoopConf.set(\"fs.s3a.endpoint\", s3_endpoint_url)\n",
    "hadoopConf.set(\"fs.s3a.access.key\", s3_access_key_id)\n",
    "hadoopConf.set(\"fs.s3a.secret.key\", s3_secret_access_key)\n",
    "hadoopConf.set(\"fs.s3a.path.style.access\", \"true\")\n",
    "hadoopConf.set(\"fs.s3a.connection.ssl.enabled\", \"false\")"
   ]
  },
  {
   "cell_type": "code",
   "execution_count": null,
   "id": "71c409c0-e0ab-4f35-a0be-ad7469986318",
   "metadata": {},
   "outputs": [],
   "source": [
    "text_file = spark.sparkContext \\\n",
    "                 .textFile(f's3a://{s3_bucket}/shakespeare.txt') \\\n",
    "                 .flatMap(lambda line: line.split(' ')) \\\n",
    "                 .map(\n",
    "                    lambda x: x.replace(',',' ') \\\n",
    "                               .replace('.',' ') \\\n",
    "                               .replace('-',' ') \\\n",
    "                               .lower())"
   ]
  },
  {
   "cell_type": "code",
   "execution_count": null,
   "id": "5b786b42-8f16-4f3d-a236-06571218bb53",
   "metadata": {},
   "outputs": [],
   "source": [
    "sorted_counts = text_file.flatMap(lambda line: line.split(' ')) \\\n",
    "                         .map(lambda word: (word, 1)) \\\n",
    "                         .reduceByKey(lambda a, b: a + b) \\\n",
    "                         .sortBy(\n",
    "                            lambda wordCounts: wordCounts[1],\n",
    "                            ascending=False)"
   ]
  },
  {
   "cell_type": "code",
   "execution_count": null,
   "id": "7a7fae77-8215-4733-b4ea-0b606425fee0",
   "metadata": {},
   "outputs": [],
   "source": [
    "i = 0\n",
    "for word, count in sorted_counts.collect()[0:500]:\n",
    "    print(f'{i} : {word} : {count} ')\n",
    "    i += 1"
   ]
  },
  {
   "cell_type": "code",
   "execution_count": null,
   "id": "a59edf33-327e-4359-8aba-c265f07d5ea2",
   "metadata": {},
   "outputs": [],
   "source": [
    "now = datetime.now()\n",
    "date_time = now.strftime('%d-%m-%Y_%H:%M:%S')\n",
    "\n",
    "sorted_counts.saveAsTextFile(f's3a://{s3_bucket}/sorted_counts_{date_time}')\n",
    "\n",
    "spark.stop()"
   ]
  }
 ],
 "metadata": {
  "kernelspec": {
   "display_name": "Python 3 (ipykernel)",
   "language": "python",
   "name": "python3"
  },
  "language_info": {
   "codemirror_mode": {
    "name": "ipython",
    "version": 3
   },
   "file_extension": ".py",
   "mimetype": "text/x-python",
   "name": "python",
   "nbconvert_exporter": "python",
   "pygments_lexer": "ipython3",
   "version": "3.8.13"
  }
 },
 "nbformat": 4,
 "nbformat_minor": 5
}
