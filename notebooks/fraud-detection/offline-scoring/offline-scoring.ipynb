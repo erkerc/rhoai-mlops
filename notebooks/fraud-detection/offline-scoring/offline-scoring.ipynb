{
 "cells": [
  {
   "cell_type": "code",
   "execution_count": 1,
   "id": "66db5c01-e2c7-4251-b3f6-30f89c946c2b",
   "metadata": {},
   "outputs": [],
   "source": [
    "from data_ingestion import ingest_data\n",
    "from preprocessing import preprocess\n",
    "from model_loading import load_model\n",
    "from scoring import predict\n",
    "from results_upload import upload_results"
   ]
  },
  {
   "cell_type": "code",
   "execution_count": 2,
   "id": "4d7accea-e620-4e80-aed9-6dd8821799b5",
   "metadata": {
    "tags": []
   },
   "outputs": [
    {
     "name": "stdout",
     "output_type": "stream",
     "text": [
      "Commencing data ingestion.\n",
      "Downloading data \"live-data.parquet\" from bucket \"fraud-detection\" from S3 storage at http://minio-service.minio.svc:9000\n",
      "Finished data ingestion.\n"
     ]
    }
   ],
   "source": [
    "ingest_data('live-data.parquet')"
   ]
  },
  {
   "cell_type": "code",
   "execution_count": 3,
   "id": "bf82360c-fb68-4407-adc2-86e8815e1391",
   "metadata": {},
   "outputs": [
    {
     "name": "stdout",
     "output_type": "stream",
     "text": [
      "Commencing data preprocessing.\n",
      "Data preprocessing done.\n"
     ]
    }
   ],
   "source": [
    "preprocess()"
   ]
  },
  {
   "cell_type": "code",
   "execution_count": 4,
   "id": "f6280f28-babc-4e99-b3b5-e66b5c0cf839",
   "metadata": {},
   "outputs": [
    {
     "name": "stdout",
     "output_type": "stream",
     "text": [
      "Commencing model loading.\n",
      "Downloading model \"model-latest.joblib\" from bucket fraud-detection from S3 storage at http://minio-service.minio.svc:9000\n",
      "Finished model loading.\n"
     ]
    }
   ],
   "source": [
    "load_model('model-latest.joblib')"
   ]
  },
  {
   "cell_type": "code",
   "execution_count": 5,
   "id": "23291014-609f-4504-abc1-acfefc21c6ad",
   "metadata": {},
   "outputs": [
    {
     "name": "stdout",
     "output_type": "stream",
     "text": [
      "Commencing offline scoring.\n",
      "Prediction results: ['legitimate' 'legitimate' 'legitimate' ... 'legitimate' 'legitimate'\n",
      " 'legitimate']\n",
      "Offline scoring complete.\n"
     ]
    }
   ],
   "source": [
    "predict()"
   ]
  },
  {
   "cell_type": "code",
   "execution_count": 6,
   "id": "a7e1f76a-a969-4a10-b3d5-22c9d157ee8e",
   "metadata": {},
   "outputs": [
    {
     "name": "stdout",
     "output_type": "stream",
     "text": [
      "Commencing results upload.\n",
      "Uploading predictions to bucket fraud-detection to S3 storage at http://minio-service.minio.svc:9000\n",
      "Finished uploading results.\n"
     ]
    }
   ],
   "source": [
    "upload_results()"
   ]
  },
  {
   "cell_type": "code",
   "execution_count": null,
   "id": "3204fb49-e067-4f5f-b401-609b170571cd",
   "metadata": {},
   "outputs": [],
   "source": []
  }
 ],
 "metadata": {
  "kernelspec": {
   "display_name": "Python 3.8.13",
   "language": "python",
   "name": "python3"
  },
  "language_info": {
   "codemirror_mode": {
    "name": "ipython",
    "version": 3
   },
   "file_extension": ".py",
   "mimetype": "text/x-python",
   "name": "python",
   "nbconvert_exporter": "python",
   "pygments_lexer": "ipython3",
   "version": "3.8.13"
  }
 },
 "nbformat": 4,
 "nbformat_minor": 5
}
