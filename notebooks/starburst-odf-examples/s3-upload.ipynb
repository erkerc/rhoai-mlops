{
 "cells": [
  {
   "cell_type": "markdown",
   "id": "cdd99882",
   "metadata": {
    "papermill": {
     "duration": 0.005862,
     "end_time": "2021-11-09T00:01:34.156450",
     "exception": false,
     "start_time": "2021-11-09T00:01:34.150588",
     "status": "completed"
    },
    "tags": []
   },
   "source": [
    "# Using Pandas to Get Familiar With Your Data\n",
    "\n",
    "The first step in any machine learning project is to familiarize yourself with the data.  You'll use the Pandas library for this.  Pandas is the primary tool data scientists use for exploring and manipulating data.  Most people abbreviate pandas in their code as `pd`."
   ]
  },
  {
   "cell_type": "code",
   "execution_count": 1,
   "id": "77d6078a",
   "metadata": {
    "papermill": {
     "duration": 0.021734,
     "end_time": "2021-11-09T00:01:34.183267",
     "exception": false,
     "start_time": "2021-11-09T00:01:34.161533",
     "status": "completed"
    },
    "tags": []
   },
   "outputs": [],
   "source": [
    "import glob\n",
    "import os\n",
    "\n",
    "from boto3 import client"
   ]
  },
  {
   "cell_type": "code",
   "execution_count": 2,
   "id": "1ea152cf",
   "metadata": {},
   "outputs": [],
   "source": [
    "s3_access_key = 'CHANGE_ME'\n",
    "s3_secret_key = 'CHANGE_ME'\n",
    "s3_endpoint_url = 'http://s3.openshift-storage.svc.cluster.local/'\n",
    "\n",
    "s3_client = client(\n",
    "    's3', aws_access_key_id=s3_access_key,\n",
    "    aws_secret_access_key=s3_secret_key,\n",
    "    endpoint_url=s3_endpoint_url,\n",
    ")"
   ]
  },
  {
   "cell_type": "code",
   "execution_count": 8,
   "id": "08bdd7a6",
   "metadata": {
    "papermill": {
     "duration": 0.169399,
     "end_time": "2021-11-09T00:01:34.367046",
     "exception": false,
     "start_time": "2021-11-09T00:01:34.197647",
     "status": "completed"
    },
    "tags": []
   },
   "outputs": [],
   "source": [
    "s3_client.upload_file('testfile', 'mybucket', 'myobject')"
   ]
  },
  {
   "cell_type": "code",
   "execution_count": 10,
   "id": "693de2d6-14d6-4404-a294-182718cdc75e",
   "metadata": {},
   "outputs": [],
   "source": [
    "myobject = s3_client.download_file('mybucket', 'myobject', 'testfile2')"
   ]
  }
 ],
 "metadata": {
  "kernelspec": {
   "display_name": "Python 3",
   "language": "python",
   "name": "python3"
  },
  "language_info": {
   "codemirror_mode": {
    "name": "ipython",
    "version": 3
   },
   "file_extension": ".py",
   "mimetype": "text/x-python",
   "name": "python",
   "nbconvert_exporter": "python",
   "pygments_lexer": "ipython3",
   "version": "3.8.6"
  },
  "papermill": {
   "default_parameters": {},
   "duration": 10.25765,
   "end_time": "2021-11-09T00:01:35.007995",
   "environment_variables": {},
   "exception": null,
   "input_path": "__notebook__.ipynb",
   "output_path": "__notebook__.ipynb",
   "parameters": {},
   "start_time": "2021-11-09T00:01:24.750345",
   "version": "2.3.3"
  }
 },
 "nbformat": 4,
 "nbformat_minor": 5
}
