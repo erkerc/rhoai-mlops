{
 "cells": [
  {
   "cell_type": "code",
   "execution_count": null,
   "id": "163404af-f840-4ee9-ba58-c9b5b64ef645",
   "metadata": {},
   "outputs": [],
   "source": [
    "from submit_training_job import cluster_login, create_cluster, \\\n",
    "    submit_job, wait_for_completion, clean_up"
   ]
  },
  {
   "cell_type": "markdown",
   "id": "47417c5c-0346-466d-960a-1bcd1fbe34c0",
   "metadata": {},
   "source": [
    "Insert cluster authentication parameters for manually overriding the values read from the environment via the mounted Kubernetes secret.\n",
    "\n",
    "Find server URL and token in the OpenShift web console after clicking on your user name and `Copy login command`.\n",
    "\n",
    "Leaving these values empty will use environment variables."
   ]
  },
  {
   "cell_type": "code",
   "execution_count": null,
   "id": "89da2563-740c-43be-b170-a426b4ed6153",
   "metadata": {},
   "outputs": [],
   "source": [
    "server_url = ''\n",
    "token = ''"
   ]
  },
  {
   "cell_type": "markdown",
   "id": "5f744e89-20ef-46b9-8b9b-05926bfd8496",
   "metadata": {},
   "source": [
    "Authenticate against OpenShift cluster"
   ]
  },
  {
   "cell_type": "code",
   "execution_count": null,
   "id": "d64cfafa-91cb-43f2-8d72-eb45bedebc44",
   "metadata": {
    "tags": []
   },
   "outputs": [],
   "source": [
    "auth = cluster_login(server_url, token)"
   ]
  },
  {
   "cell_type": "markdown",
   "id": "213c3fb4-1a12-4579-93f8-6f31eb924ff5",
   "metadata": {},
   "source": [
    "Create Ray cluster"
   ]
  },
  {
   "cell_type": "code",
   "execution_count": null,
   "id": "60bde32d-e712-4fae-96fd-4da2ca3bacde",
   "metadata": {},
   "outputs": [],
   "source": [
    "cluster = create_cluster()"
   ]
  },
  {
   "cell_type": "markdown",
   "id": "fd1421a0-0516-4acc-9629-84afd93f3262",
   "metadata": {},
   "source": [
    "Create and submit distributed model training job"
   ]
  },
  {
   "cell_type": "code",
   "execution_count": null,
   "id": "0581d314-e860-493f-ad79-a69c24751647",
   "metadata": {},
   "outputs": [],
   "source": [
    "job = submit_job(cluster)"
   ]
  },
  {
   "cell_type": "markdown",
   "id": "f9d03caa-98be-4bc1-b293-4208b4a4a7c7",
   "metadata": {},
   "source": [
    "Block until job is complete"
   ]
  },
  {
   "cell_type": "code",
   "execution_count": null,
   "id": "9df0200d-a4fe-4c7f-bb62-f9ab5cdb50cc",
   "metadata": {
    "tags": []
   },
   "outputs": [],
   "source": [
    "wait_for_completion(job)"
   ]
  },
  {
   "cell_type": "markdown",
   "id": "b10fc11d-9a02-458e-b66f-3271466adfea",
   "metadata": {},
   "source": [
    "Delete cluster resources and log out"
   ]
  },
  {
   "cell_type": "code",
   "execution_count": null,
   "id": "35c5f3d1-2ad3-4a43-93ca-1792143e74f3",
   "metadata": {},
   "outputs": [],
   "source": [
    "clean_up(cluster, auth)"
   ]
  },
  {
   "cell_type": "code",
   "execution_count": null,
   "id": "a8112b0a-fed4-4494-9bb5-d9e7499e86f9",
   "metadata": {},
   "outputs": [],
   "source": []
  }
 ],
 "metadata": {
  "kernelspec": {
   "display_name": "Python 3.9.16",
   "language": "python",
   "name": "python3"
  },
  "language_info": {
   "codemirror_mode": {
    "name": "ipython",
    "version": 3
   },
   "file_extension": ".py",
   "mimetype": "text/x-python",
   "name": "python",
   "nbconvert_exporter": "python",
   "pygments_lexer": "ipython3",
   "version": "3.9.16"
  }
 },
 "nbformat": 4,
 "nbformat_minor": 5
}
