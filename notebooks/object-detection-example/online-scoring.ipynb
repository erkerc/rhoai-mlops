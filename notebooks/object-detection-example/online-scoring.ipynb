{
 "cells": [
  {
   "cell_type": "code",
   "execution_count": null,
   "id": "fd48db30-205c-4458-8f84-2e55599db6a3",
   "metadata": {},
   "outputs": [],
   "source": [
    "from classes import classes\n",
    "from preprocessing import preprocess_image_file\n",
    "from object_detection import detect_objects\n",
    "from object_rendering import draw_boxes"
   ]
  },
  {
   "cell_type": "code",
   "execution_count": null,
   "id": "7fdb0c99-f997-48a8-b0ae-7b858fb4ba58",
   "metadata": {},
   "outputs": [],
   "source": [
    "image_path = './sample-images/scene12.jpg'\n",
    "\n",
    "class_labels_type = 'computer'  # e.g. 'coco' or 'traffic'\n",
    "# class_labels = classes[class_labels_type]\n",
    "class_labels = ['Laptop', 'Computer keyboard', 'Mobile phone']\n",
    "prediction_url = ''"
   ]
  },
  {
   "cell_type": "code",
   "execution_count": null,
   "id": "9340c36e-0fa6-484a-95ca-9425943b9d4b",
   "metadata": {
    "tags": []
   },
   "outputs": [],
   "source": [
    "image_data, ratio, dwdh = preprocess_image_file(image_path)\n",
    "objects = detect_objects(\n",
    "    image_data,\n",
    "    prediction_url,\n",
    "    token='',\n",
    "    classes_count=len(class_labels),\n",
    "    confidence_threshold=0.1,\n",
    ")\n",
    "draw_boxes(\n",
    "    image_path,\n",
    "    objects,\n",
    "    ratio,\n",
    "    dwdh,\n",
    "    class_labels=class_labels,\n",
    ")"
   ]
  },
  {
   "cell_type": "code",
   "execution_count": null,
   "id": "169c9b8f-fe38-4922-922c-5ceedb0a85a5",
   "metadata": {},
   "outputs": [],
   "source": []
  }
 ],
 "metadata": {
  "kernelspec": {
   "display_name": "Python 3.9.16",
   "language": "python",
   "name": "python3"
  },
  "language_info": {
   "codemirror_mode": {
    "name": "ipython",
    "version": 3
   },
   "file_extension": ".py",
   "mimetype": "text/x-python",
   "name": "python",
   "nbconvert_exporter": "python",
   "pygments_lexer": "ipython3",
   "version": "3.9.16"
  }
 },
 "nbformat": 4,
 "nbformat_minor": 5
}
