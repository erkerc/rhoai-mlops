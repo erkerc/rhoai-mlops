{
 "cells": [
  {
   "cell_type": "code",
   "execution_count": null,
   "id": "fd48db30-205c-4458-8f84-2e55599db6a3",
   "metadata": {},
   "outputs": [],
   "source": [
    "import base64\n",
    "from pprint import pprint\n",
    "\n",
    "from requests import post"
   ]
  },
  {
   "cell_type": "code",
   "execution_count": null,
   "id": "453fe81a-d1a8-4719-b360-0cd42c4f001e",
   "metadata": {},
   "outputs": [],
   "source": [
    "image_path = './sample-images/street.jpg'\n",
    "with open(image_path, \"rb\") as image_file:\n",
    "    encoded_string = base64.b64encode(image_file.read()).decode()"
   ]
  },
  {
   "cell_type": "code",
   "execution_count": null,
   "id": "19be0a4d-3776-481b-8491-4575486591ec",
   "metadata": {},
   "outputs": [],
   "source": [
    "prediction_url = 'https://computer-object-detection.apps.cluster-x6dr2.x6dr2.sandbox902.opentlc.com/v2/models/computer/infer'\n",
    "\n",
    "raw_response = post(prediction_url, json={'image': encoded_string})"
   ]
  },
  {
   "cell_type": "code",
   "execution_count": null,
   "id": "9340c36e-0fa6-484a-95ca-9425943b9d4b",
   "metadata": {},
   "outputs": [],
   "source": [
    "pprint(raw_response.json())"
   ]
  },
  {
   "cell_type": "code",
   "execution_count": null,
   "id": "2c8ee1f7-e327-4e11-a43b-1848b8351671",
   "metadata": {},
   "outputs": [],
   "source": []
  }
 ],
 "metadata": {
  "kernelspec": {
   "display_name": "Python 3.9.16",
   "language": "python",
   "name": "python3"
  },
  "language_info": {
   "codemirror_mode": {
    "name": "ipython",
    "version": 3
   },
   "file_extension": ".py",
   "mimetype": "text/x-python",
   "name": "python",
   "nbconvert_exporter": "python",
   "pygments_lexer": "ipython3",
   "version": "3.9.16"
  }
 },
 "nbformat": 4,
 "nbformat_minor": 5
}
