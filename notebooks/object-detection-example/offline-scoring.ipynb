{
 "cells": [
  {
   "cell_type": "code",
   "execution_count": null,
   "id": "00fd2e57-2602-451c-b536-efcd93673dd3",
   "metadata": {},
   "outputs": [],
   "source": [
    "from data_ingestion import ingest_data\n",
    "from model_loading import load_model\n",
    "from preprocessing import preprocess_image_folder\n",
    "from results_upload import upload_results\n",
    "from scoring import predict"
   ]
  },
  {
   "cell_type": "code",
   "execution_count": null,
   "id": "11d57eb7-7018-48f5-b40d-ecdda8a8febc",
   "metadata": {
    "tags": []
   },
   "outputs": [],
   "source": [
    "ingest_data()"
   ]
  },
  {
   "cell_type": "code",
   "execution_count": null,
   "id": "aadb625c-d35b-4554-bc32-bb3177ff5394",
   "metadata": {
    "tags": []
   },
   "outputs": [],
   "source": [
    "preprocess_image_folder()"
   ]
  },
  {
   "cell_type": "code",
   "execution_count": null,
   "id": "65068f51-5a86-4ea9-b4ac-0189ad145543",
   "metadata": {},
   "outputs": [],
   "source": [
    "load_model('yolov5n.onnx')"
   ]
  },
  {
   "cell_type": "code",
   "execution_count": null,
   "id": "3e9c73d8-f441-4a9f-95f2-6eae63514e90",
   "metadata": {},
   "outputs": [],
   "source": [
    "predict()"
   ]
  },
  {
   "cell_type": "code",
   "execution_count": null,
   "id": "05b7291b-0f58-4def-9f69-2f524ffd62ec",
   "metadata": {},
   "outputs": [],
   "source": [
    "upload_results()"
   ]
  },
  {
   "cell_type": "code",
   "execution_count": null,
   "id": "1c9d5679-3e4d-4972-bef3-cc69a000bdb8",
   "metadata": {},
   "outputs": [],
   "source": []
  }
 ],
 "metadata": {
  "kernelspec": {
   "display_name": "Python 3.9.16",
   "language": "python",
   "name": "python3"
  },
  "language_info": {
   "codemirror_mode": {
    "name": "ipython",
    "version": 3
   },
   "file_extension": ".py",
   "mimetype": "text/x-python",
   "name": "python",
   "nbconvert_exporter": "python",
   "pygments_lexer": "ipython3",
   "version": "3.9.16"
  }
 },
 "nbformat": 4,
 "nbformat_minor": 5
}
