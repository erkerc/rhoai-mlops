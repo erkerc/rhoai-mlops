{
 "cells": [
  {
   "cell_type": "code",
   "execution_count": 1,
   "id": "427da5de-4555-4014-85ce-8db1f57f8f12",
   "metadata": {},
   "outputs": [],
   "source": [
    "from pprint import pformat\n",
    "\n",
    "from numpy import argmax\n",
    "from requests import post"
   ]
  },
  {
   "cell_type": "code",
   "execution_count": 2,
   "id": "4399bfcc-abc0-44f1-82dd-4ded81057f73",
   "metadata": {},
   "outputs": [],
   "source": [
    "endpoint = 'https://model-2309071818-fraud-detection.apps.cluster-8nb8t.8nb8t.openshift.opentlc.com/v2/models/model-2309071818/infer'"
   ]
  },
  {
   "cell_type": "code",
   "execution_count": 3,
   "id": "42d17db6-abef-4044-b3e7-df89d817475e",
   "metadata": {},
   "outputs": [],
   "source": [
    "sample = [-0.15384616, -0.9909186, 1.0770786, 0.2849802, 0.0077313827, 1.657073, 0.05202024, 0.44638866, -0.40703616, 0.3557039, 0.6260392, -0.92908716, 1.0941651, 0.57956475, -0.8621889, -2.2244275, -1.1098708, 0.17238183, 1.7235482, 0.6979903, -0.15358274, -0.14279902, -0.17433698, -0.1741605, -0.15337533,  -0.46633127, 0.6110009, -0.25287056, 0.090374656, 0.054820385]\n",
    "\n",
    "payload = {\n",
    "    'inputs': [\n",
    "        {\n",
    "            'name': 'dense_input',\n",
    "            'shape': [1, 30],\n",
    "            'datatype': 'FP32',\n",
    "            'data': sample,\n",
    "        }\n",
    "    ]\n",
    "}"
   ]
  },
  {
   "cell_type": "code",
   "execution_count": 4,
   "id": "5c8e45a9-6ae1-414b-a677-c152864bf699",
   "metadata": {},
   "outputs": [
    {
     "name": "stdout",
     "output_type": "stream",
     "text": [
      "Raw model response: {'model_name': 'model-2309071818__isvc-edbd4084bb',\n",
      " 'model_version': '1',\n",
      " 'outputs': [{'data': [0.9999709, 2.9136854e-05],\n",
      "              'datatype': 'FP32',\n",
      "              'name': 'dense_2',\n",
      "              'shape': [1, 2]}]}\n",
      "The sample was classified as \"No Fraud\".\n"
     ]
    }
   ],
   "source": [
    "raw_response = post(endpoint, json=payload).json()\n",
    "model_output = raw_response['outputs'][0]['data']\n",
    "\n",
    "labels = ['No Fraud', 'Fraud']\n",
    "\n",
    "classification_result = labels[argmax(model_output)]\n",
    "\n",
    "print(f'Raw model response: {pformat(raw_response)}')\n",
    "print(f'The sample was classified as \"{classification_result}\".')"
   ]
  },
  {
   "cell_type": "code",
   "execution_count": null,
   "id": "8a48f3c8-9681-42e3-9dc6-e92dc6db2d28",
   "metadata": {},
   "outputs": [],
   "source": []
  }
 ],
 "metadata": {
  "kernelspec": {
   "display_name": "Python 3.9.16",
   "language": "python",
   "name": "python3"
  },
  "language_info": {
   "codemirror_mode": {
    "name": "ipython",
    "version": 3
   },
   "file_extension": ".py",
   "mimetype": "text/x-python",
   "name": "python",
   "nbconvert_exporter": "python",
   "pygments_lexer": "ipython3",
   "version": "3.9.16"
  },
  "vscode": {
   "interpreter": {
    "hash": "e7370f93d1d0cde622a1f8e1c04877d8463912d04d973331ad4851f04de6915a"
   }
  }
 },
 "nbformat": 4,
 "nbformat_minor": 5
}
