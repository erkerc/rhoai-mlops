{
 "cells": [
  {
   "cell_type": "markdown",
   "id": "ad453511-5267-4849-9ef7-bf7c375d8ea5",
   "metadata": {},
   "source": [
    "### Connect Pachctl client to running cluster"
   ]
  },
  {
   "cell_type": "code",
   "execution_count": null,
   "id": "552a2b89-46d8-4cb9-964c-6162e4e0f1fd",
   "metadata": {},
   "outputs": [],
   "source": [
    "!echo '{\"pachd_address\":\"pachd.pachyderm.svc.cluster.local:30650\"}' | pachctl config set context pachyderm --overwrite\n",
    "\n",
    "!pachctl config set active-context pachyderm\n",
    "!pachctl config get active-context\n",
    "!pachctl version "
   ]
  },
  {
   "cell_type": "markdown",
   "id": "d6ca3dcb-6af9-4430-9b02-09bd70b38928",
   "metadata": {},
   "source": [
    "### Simple example using the Python client"
   ]
  },
  {
   "cell_type": "code",
   "execution_count": null,
   "id": "7d09056a-3717-49fe-8c14-f3d73247f942",
   "metadata": {},
   "outputs": [],
   "source": [
    "import python_pachyderm\n",
    "\n",
    "# Connects to a pachyderm cluster on localhost:30650\n",
    "# For other connection options, see the API docs\n",
    "client = python_pachyderm.Client(\n",
    "    host='pachd.pachyderm.svc.cluster.local',\n",
    "    port=30650,\n",
    ")\n",
    "\n",
    "# Create a pachyderm repo called `test`\n",
    "client.create_repo(\"test\")\n",
    "\n",
    "# Create a file in (repo=\"test\", branch=\"master\") at `/dir_a/data.txt`\n",
    "# Similar to `pachctl put file test@master:/dir_a/data.txt`\n",
    "with client.commit(\"test\", \"master\") as commit:\n",
    "    client.put_file_bytes(commit, \"/dir_a/data.txt\", b\"hello world\")\n",
    "\n",
    "# Get the file\n",
    "f = client.get_file((\"test\", \"master\"), \"/dir_a/data.txt\")\n",
    "print(f.read())  # >>> b\"hello world\""
   ]
  }
 ],
 "metadata": {
  "kernelspec": {
   "display_name": "Python 3 (ipykernel)",
   "language": "python",
   "name": "python3"
  },
  "language_info": {
   "codemirror_mode": {
    "name": "ipython",
    "version": 3
   },
   "file_extension": ".py",
   "mimetype": "text/x-python",
   "name": "python",
   "nbconvert_exporter": "python",
   "pygments_lexer": "ipython3",
   "version": "3.8.13"
  }
 },
 "nbformat": 4,
 "nbformat_minor": 5
}
